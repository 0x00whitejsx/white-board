{
 "cells": [
  {
   "cell_type": "markdown",
   "id": "0677a174-c6ed-436f-adb3-6d1ea0ebfc40",
   "metadata": {},
   "source": [
    "# CSC ASSIGNMENT \n",
    "## BY: CSC/19d/\n",
    "_______________\n",
    "\n",
    "### COURSE WORK:\n",
    "\n",
    "- Using these AI chat tools namely ChatGPT, Perplexity AI and BlackBox AI demonstrate how prompts can be used to design, develop and -deploy a multimedia app on a server. \n",
    "\n",
    "###### Submit both the prompts and the results in chronological order. \n",
    "\n",
    "  "
   ]
  },
  {
   "cell_type": "markdown",
   "id": "65b5d137-a32b-4085-8f49-eaf5e11bf543",
   "metadata": {},
   "source": [
    "# promt 1\n",
    "what does it involved in building a multimedia and it use case. List out some use cases of multimedia applications."
   ]
  },
  {
   "cell_type": "markdown",
   "id": "eeec947b-aaaa-4969-8044-33629fd45428",
   "metadata": {},
   "source": [
    "# promt 2\n",
    "I am familiar with tkinter and I need you to list out the steps to build this application. "
   ]
  },
  {
   "cell_type": "code",
   "execution_count": null,
   "id": "b7be21d9-359b-4127-acdb-d1d1dff4fa4a",
   "metadata": {},
   "outputs": [],
   "source": [
    "# Promt 3\n",
    "Generate a Python script to run in the background, reading daily news reports out loud from a new API (Application Programming Interface) every morning."
   ]
  },
  {
   "cell_type": "code",
   "execution_count": null,
   "id": "85174f97-3d33-4c2e-b941-2840fc42a2a8",
   "metadata": {},
   "outputs": [],
   "source": [
    "# promt 4\n",
    "generate a react code that provide step and allowed user to download and run the code"
   ]
  },
  {
   "cell_type": "code",
   "execution_count": null,
   "id": "26a2fdc4-2ef0-4e02-8b05-673924afc58c",
   "metadata": {},
   "outputs": [],
   "source": [
    "# Deployment\n",
    "since is a scripting application and i can host it on github i will need the process of deploying on github "
   ]
  },
  {
   "cell_type": "code",
   "execution_count": null,
   "id": "9be7fd4b-9b65-48a2-9cd7-69bbcc2b6aec",
   "metadata": {},
   "outputs": [],
   "source": [
    "# Promt 5\n",
    "list step to host a react application on github"
   ]
  },
  {
   "cell_type": "markdown",
   "id": "4590bf2b-a993-47fd-9cb4-7ed5c7c444d3",
   "metadata": {},
   "source": [
    "# public link "
   ]
  }
 ],
 "metadata": {
  "kernelspec": {
   "display_name": "Python 3 (ipykernel)",
   "language": "python",
   "name": "python3"
  },
  "language_info": {
   "codemirror_mode": {
    "name": "ipython",
    "version": 3
   },
   "file_extension": ".py",
   "mimetype": "text/x-python",
   "name": "python",
   "nbconvert_exporter": "python",
   "pygments_lexer": "ipython3",
   "version": "3.11.7"
  }
 },
 "nbformat": 4,
 "nbformat_minor": 5
}

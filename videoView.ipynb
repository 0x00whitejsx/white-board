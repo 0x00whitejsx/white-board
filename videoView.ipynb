{
 "cells": [
  {
   "cell_type": "markdown",
   "id": "cf9de2a9-8569-430e-ba6c-0d2e5aed3ea3",
   "metadata": {},
   "source": [
    "# Course Work \n",
    "### * By: Csc/19D/4120\n",
    "\n",
    "### Instructions: * Using these AI chat tools namely ChatGPT, Perplexity AI and BlackBox AI demonstrate how prompts can be used to design, develop and -deploy a multimedia app on a server.\n",
    "Submit both the prompts and the results in chronological order."
   ]
  },
  {
   "cell_type": "markdown",
   "id": "f896b3b4-7420-4465-b9bd-8ad913ef3ce9",
   "metadata": {},
   "source": [
    "### Promt 1\n",
    " please summarise the step to deploy a multimedia app on a server\n"
   ]
  },
  {
   "cell_type": "markdown",
   "id": "13252213-33cf-4a1c-94c2-cc194bd45643",
   "metadata": {},
   "source": [
    "# Response 1:\n",
    "\n",
    "\n",
    "To deploy a multimedia app on a server, ensure your application is ready and working locally with all dependencies listed in package.json. Choose a hosting provider like Heroku, AWS, Vercel, or DigitalOcean, and create an account. Install the CLI tools for your chosen provider and initialize a Git repository for your project. Create a new app on the hosting provider (e.g., heroku create your-app-name), configure deployment settings, and push your code to the remote repository (git push heroku main). After deployment, verify the app is running correctly, configure necessary databases and storage solutions, and set up monitoring tools for maintenance and performance tracking. For Heroku, use commands like heroku login, heroku create, and heroku open to manage the deployment process."
   ]
  },
  {
   "cell_type": "markdown",
   "id": "028c6040-f7a3-4def-988d-25ac3b9b64d2",
   "metadata": {},
   "source": [
    "### promt 1\n",
    "\n",
    "generate a prompt for a multimedia collaborative whiteboard that allows academics to conduct real-time learning and enables users to upload, view, like, share, and comment on videos.\n"
   ]
  },
  {
   "cell_type": "markdown",
   "id": "ffb324f7-4c50-4437-90c0-d2d0a65ecfcf",
   "metadata": {},
   "source": [
    "## Project Brief:\n",
    "\n",
    "We aim to develop an innovative multimedia collaborative whiteboard specifically designed for academics. This platform will facilitate real-time interactive learning and collaboration among students and educators. Key features will include the ability to upload, view, like, share, and comment on videos, creating a dynamic and engaging educational environment.\n",
    "\n",
    "Key Features:\n",
    "\n",
    "Real-Time Collaborative Whiteboard:\n",
    "\n",
    "Multi-user interaction with drawing, writing, and annotation tools.\n",
    "Synchronous updates to ensure all participants see changes in real time."
   ]
  },
  {
   "cell_type": "markdown",
   "id": "26c8d833-6220-4c37-bca5-c83f6f5be192",
   "metadata": {},
   "source": [
    "HTML:"
   ]
  },
  {
   "cell_type": "code",
   "execution_count": null,
   "id": "67a27e4e-7975-4571-acf7-887c565faf6a",
   "metadata": {},
   "outputs": [],
   "source": [
    "<!DOCTYPE html>\n",
    "<html lang=\"en\">\n",
    "<head>\n",
    "    <meta charset=\"UTF-8\">\n",
    "    <meta name=\"viewport\" content=\"width=device-width, initial-scale=1.0\">\n",
    "    <title>Collaborative Multimedia Whiteboard</title>\n",
    "    <style>\n",
    "        #whiteboard {\n",
    "            border: 1px solid black;\n",
    "            width: 80%;\n",
    "            height: 500px;\n",
    "            margin: 20px auto;\n",
    "            position: relative;\n",
    "        }\n",
    "        #toolbar {\n",
    "            text-align: center;\n",
    "            margin: 20px;\n",
    "        }\n",
    "        #videoSection {\n",
    "            width: 80%;\n",
    "            margin: 20px auto;\n",
    "        }\n",
    "        .comment-section {\n",
    "            margin-top: 10px;\n",
    "        }\n",
    "    </style>\n",
    "</head>\n",
    "<body>\n",
    "    <div id=\"toolbar\">\n",
    "        <button onclick=\"clearBoard()\">Clear Board</button>\n",
    "        <input type=\"file\" accept=\"video/*\" id=\"uploadVideo\">\n",
    "        <button onclick=\"uploadVideo()\">Upload Video</button>\n",
    "    </div>\n",
    "    <div id=\"whiteboard\"></div>\n",
    "    <div id=\"videoSection\"></div>\n",
    "    <script src=\"whiteboard.js\"></script>\n",
    "</body>\n",
    "</html>\n"
   ]
  },
  {
   "cell_type": "markdown",
   "id": "4e3707ef-c06d-4108-8014-c7ac30f42cb9",
   "metadata": {},
   "source": [
    "Create the Server:\n",
    "Create a file named server.js and add the following code:"
   ]
  },
  {
   "cell_type": "code",
   "execution_count": null,
   "id": "5889d3c7-e60d-4fce-85ff-835b2327dd6e",
   "metadata": {},
   "outputs": [],
   "source": [
    "const canvas = document.createElement('canvas');\n",
    "canvas.width = document.getElementById('whiteboard').clientWidth;\n",
    "canvas.height = document.getElementById('whiteboard').clientHeight;\n",
    "document.getElementById('whiteboard').appendChild(canvas);\n",
    "const ctx = canvas.getContext('2d');\n",
    "let drawing = false;\n",
    "\n",
    "canvas.addEventListener('mousedown', () => drawing = true);\n",
    "canvas.addEventListener('mouseup', () => drawing = false);\n",
    "canvas.addEventListener('mousemove', draw);\n",
    "\n",
    "function draw(event) {\n",
    "    if (!drawing) return;\n",
    "    ctx.lineWidth = 2;\n",
    "    ctx.lineCap = 'round';\n",
    "    ctx.strokeStyle = 'black';\n",
    "    ctx.lineTo(event.clientX - canvas.offsetLeft, event.clientY - canvas.offsetTop);\n",
    "    ctx.stroke();\n",
    "    ctx.beginPath();\n",
    "    ctx.moveTo(event.clientX - canvas.offsetLeft, event.clientY - canvas.offsetTop);\n",
    "}\n",
    "\n",
    "function clearBoard() {\n",
    "    ctx.clearRect(0, 0, canvas.width, canvas.height);\n",
    "}\n",
    "\n",
    "function uploadVideo() {\n",
    "    const fileInput = document.getElementById('uploadVideo');\n",
    "    if (fileInput.files.length === 0) return;\n",
    "\n",
    "    const file = fileInput.files[0];\n",
    "    const videoURL = URL.createObjectURL(file);\n",
    "    const videoSection = document.getElementById('videoSection');\n",
    "    \n",
    "    const videoContainer = document.createElement('div');\n",
    "    const video = document.createElement('video');\n",
    "    video.controls = true;\n",
    "    video.src = videoURL;\n",
    "    \n",
    "    const likeButton = document.createElement('button');\n",
    "    likeButton.innerText = 'Like';\n",
    "    let likes = 0;\n",
    "    likeButton.onclick = () => {\n",
    "        likes += 1;\n",
    "        likeButton.innerText = `Like (${likes})`;\n",
    "    };\n",
    "    \n",
    "    const commentSection = document.createElement('div');\n",
    "    commentSection.classList.add('comment-section');\n",
    "    const commentInput = document.createElement('input');\n",
    "    commentInput.type = 'text';\n",
    "    commentInput.placeholder = 'Add a comment...';\n",
    "    const commentButton = document.createElement('button');\n",
    "    commentButton.innerText = 'Comment';\n",
    "    commentButton.onclick = () => {\n",
    "        const comment = document.createElement('p');\n",
    "        comment.innerText = commentInput.value;\n",
    "        commentSection.appendChild(comment);\n",
    "        commentInput.value = '';\n",
    "    };\n",
    "    \n",
    "    videoContainer.appendChild(video);\n",
    "    videoContainer.appendChild(likeButton);\n",
    "    videoContainer.appendChild(commentInput);\n",
    "    videoContainer.appendChild(commentButton);\n",
    "    videoContainer.appendChild(commentSection);\n",
    "    videoSection.appendChild(videoContainer);\n",
    "}\n"
   ]
  },
  {
   "cell_type": "markdown",
   "id": "e96aae54-19e1-4531-b7dd-28ca1b4deecc",
   "metadata": {},
   "source": [
    "This code sets up a basic whiteboard with drawing capabilities and a video section where users can upload, like, and comment on videos. You can expand and enhance this code based on your specific requirements."
   ]
  },
  {
   "cell_type": "markdown",
   "id": "026f8aa2-8a72-47da-822f-57c12c7ad439",
   "metadata": {},
   "source": [
    "2. Set Up the Frontend (Bootstrap)\n",
    "Create the App:"
   ]
  },
  {
   "cell_type": "markdown",
   "id": "b51096ea-4837-40b7-bf7e-793122ac7852",
   "metadata": {},
   "source": [
    "# hosted link\n",
    "\n",
    "https://vedio-ip.vercel.app/"
   ]
  },
  {
   "cell_type": "code",
   "execution_count": null,
   "id": "a63ac3cb-c5e8-4bb3-9f21-cb8014bd27dd",
   "metadata": {},
   "outputs": [],
   "source": []
  }
 ],
 "metadata": {
  "kernelspec": {
   "display_name": "Python 3 (ipykernel)",
   "language": "python",
   "name": "python3"
  },
  "language_info": {
   "codemirror_mode": {
    "name": "ipython",
    "version": 3
   },
   "file_extension": ".py",
   "mimetype": "text/x-python",
   "name": "python",
   "nbconvert_exporter": "python",
   "pygments_lexer": "ipython3",
   "version": "3.11.7"
  }
 },
 "nbformat": 4,
 "nbformat_minor": 5
}
